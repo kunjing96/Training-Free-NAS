{
 "cells": [
  {
   "cell_type": "code",
   "execution_count": null,
   "metadata": {},
   "outputs": [],
   "source": [
    "import pickle\n",
    "from scipy import stats\n",
    "from tqdm import tqdm\n",
    "from prettytable import PrettyTable\n",
    "from nas_201_api import NASBench201API as API\n",
    "import numpy as np\n",
    "from functools import cmp_to_key\n",
    "\n",
    "api = API('./data/NAS-Bench-201-v1_1-096897.pth', verbose=False)\n",
    "print(len(api))"
   ]
  },
  {
   "cell_type": "markdown",
   "metadata": {},
   "source": [
    "## Val and Test accuracy on NAS-Bench-201"
   ]
  },
  {
   "cell_type": "code",
   "execution_count": null,
   "metadata": {},
   "outputs": [],
   "source": [
    "val_acc_c10  = {}\n",
    "val_acc_c100 = {}\n",
    "val_acc_im16 = {}\n",
    "acc_c10  = {}\n",
    "acc_c100 = {}\n",
    "acc_im16 = {}\n",
    "for i in tqdm(range(len(api))):\n",
    "    arch_str = api[i]\n",
    "    index = api.query_index_by_arch(arch_str)\n",
    "    # val acc on cifar10\n",
    "    val_acc_c10[arch_str]  = api.get_more_info(index, 'cifar10-valid')['valid-accuracy']\n",
    "    # val acc on cifar100\n",
    "    val_acc_c100[arch_str] = api.get_more_info(index, 'cifar100')['valid-accuracy']\n",
    "    # val acc on ImageNet16-120\n",
    "    val_acc_im16[arch_str] = api.get_more_info(index, 'ImageNet16-120')['valid-accuracy']\n",
    "    # test acc on cifar10\n",
    "    info = api.get_more_info(index, 'cifar10-valid', iepoch=None, hp='200', is_random=False)\n",
    "    acc_c10[arch_str]  = info['test-accuracy']\n",
    "    # test acc on cifar100\n",
    "    info = api.get_more_info(index, 'cifar100', iepoch=None, hp='200', is_random=False)\n",
    "    acc_c100[arch_str] = info['test-accuracy']\n",
    "    # test acc on ImageNet16-120\n",
    "    info = api.get_more_info(index, 'ImageNet16-120', iepoch=None, hp='200', is_random=False)\n",
    "    acc_im16[arch_str] = info['test-accuracy']\n",
    "val_accs = {'cifar10': val_acc_c10, 'cifar100': val_acc_c100, 'ImageNet16-120': val_acc_im16}\n",
    "accs = {'cifar10': acc_c10, 'cifar100': acc_c100, 'ImageNet16-120': acc_im16}"
   ]
  },
  {
   "cell_type": "markdown",
   "metadata": {},
   "source": [
    "## Get the list of (nb2*.p path, dataset) and names of all metrics"
   ]
  },
  {
   "cell_type": "code",
   "execution_count": null,
   "metadata": {},
   "outputs": [],
   "source": [
    "import os, glob, pickle\n",
    "def search_file(pattern, search_path):\n",
    "    for path in search_path.split(os.pathsep):\n",
    "        for match in glob.glob(os.path.join(path, pattern)):\n",
    "            yield match\n",
    "\n",
    "path_list = list(search_file('nb2*.p', './'))\n",
    "p_list = [(x, 'ImageNet16-120' if 'im120' in x else 'cifar100' if 'cf100' in x else 'cifar10', 3 if 'im120' in x else 2 if 'cf100' in x else 1) for x in path_list]\n",
    "p_list = sorted(p_list,key=lambda x: x[2])\n",
    "print(p_list)\n",
    "metric_names = ['val_acc'] + list(pickle.load(open(p_list[0][0],'rb'))['logmeasures'].keys())\n",
    "print(metric_names)"
   ]
  },
  {
   "cell_type": "markdown",
   "metadata": {},
   "source": [
    "## Vote setting"
   ]
  },
  {
   "cell_type": "code",
   "execution_count": null,
   "metadata": {},
   "outputs": [],
   "source": [
    "orignal_vote_metric_names = ['snip', 'synflow', 'jacob_cor']\n",
    "orignal_vote_signs = [1, 1, 1]\n",
    "our_vote_1_metric_names = ['synflow', 'jacob_cor', 'act_grad_cor_weighted']\n",
    "our_vote_1_signs = [1, 1, 1]\n",
    "vote_metric_names = [orignal_vote_metric_names, our_vote_1_metric_names]\n",
    "vote_signs        = [orignal_vote_signs, our_vote_1_signs]\n",
    "metric_names.extend(['ori_vote', 'our_vote'])\n",
    "print(metric_names)"
   ]
  },
  {
   "cell_type": "markdown",
   "metadata": {},
   "source": [
    "## Soft vote and Hard vote"
   ]
  },
  {
   "cell_type": "code",
   "execution_count": null,
   "metadata": {},
   "outputs": [],
   "source": [
    "def soft_vote(vote_metric_names, vote_signs, metrics, normlize='zscore'):\n",
    "    vote_metrics = []\n",
    "    for i, k in enumerate(vote_metric_names):\n",
    "        metric_nparray = np.array(vote_signs[i] * metrics[k])\n",
    "        if normlize == 'minmax':\n",
    "            metric_nparray = (metric_nparray - np.ma.masked_invalid(metric_nparray).min()) / (np.ma.masked_invalid(metric_nparray).max() - np.ma.masked_invalid(metric_nparray).min())\n",
    "        elif normlize == 'zscore':\n",
    "            metric_nparray = (metric_nparray - np.ma.masked_invalid(metric_nparray).mean()) / np.ma.masked_invalid(metric_nparray).std()\n",
    "        else:\n",
    "            raise ValueError('No normlize {}.'.format(normlize))\n",
    "        vote_metrics.append(metric_nparray)\n",
    "    return (sum(vote_metrics)/len(vote_metrics)).tolist()\n",
    "\n",
    "def hard_vote(vote_metric_names, vote_signs, metrics):\n",
    "    num_archs = len(metrics[list(metrics.keys())[0]])\n",
    "    archs_idx = list(range(num_archs))\n",
    "    \n",
    "    def cmp(idx1, idx2):\n",
    "        ret = []\n",
    "        for i, k in enumerate(vote_metric_names):\n",
    "            ret.append(vote_signs[i] * (metrics[k][idx1] - metrics[k][idx2]))\n",
    "        ret = np.array(ret)\n",
    "        if sum(ret<0)>len(vote_metric_names)/2: return -1\n",
    "        elif sum(ret>0)>len(vote_metric_names)/2: return 1\n",
    "        else: return 0\n",
    "    \n",
    "    sorted_archs_idx = sorted(archs_idx, key=cmp_to_key(cmp))\n",
    "    archs_idx_ranking = []\n",
    "    for x in archs_idx:\n",
    "        archs_idx_ranking.append(sorted_archs_idx.index(x))\n",
    "    return archs_idx_ranking\n",
    "\n",
    "def vote(vote_metric_names, vote_signs, metrics, mode):\n",
    "    if 'hard' in mode:\n",
    "        return hard_vote(vote_metric_names, vote_signs, metrics)\n",
    "    elif 'soft' in mode:\n",
    "        if 'zscore' in mode:\n",
    "            return soft_vote(vote_metric_names, vote_signs, metrics, normlize='zscore')\n",
    "        elif 'minmax' in mode:\n",
    "            return soft_vote(vote_metric_names, vote_signs, metrics, normlize='minmax')\n",
    "        else:\n",
    "            raise ValueError('No {:} mode'.format(mode))\n",
    "    else:\n",
    "        raise ValueError('No {:} mode'.format(mode))"
   ]
  },
  {
   "cell_type": "markdown",
   "metadata": {},
   "source": [
    "## Kendall τ distance of zero-cost proxies on NAS-Bench-201"
   ]
  },
  {
   "cell_type": "code",
   "execution_count": null,
   "metadata": {},
   "outputs": [],
   "source": [
    "t=None\n",
    "hl=['Dataset']\n",
    "hl.extend(metric_names)\n",
    "t = PrettyTable(hl)\n",
    "\n",
    "for fname, rname, _ in p_list:\n",
    "    runs=[]\n",
    "    f = open(fname,'rb')\n",
    "    while(1):\n",
    "        try:\n",
    "            runs.append(pickle.load(f))\n",
    "        except EOFError:\n",
    "            break\n",
    "    f.close()\n",
    "    print(fname, len(runs))\n",
    "\n",
    "    metrics={}\n",
    "    for k in metric_names:\n",
    "        metrics[k] = []\n",
    "    acc = []\n",
    "\n",
    "    for r in runs:\n",
    "        for k,v in r['logmeasures'].items():\n",
    "            if k in metrics:\n",
    "                metrics[k].append(v)\n",
    "        metrics['val_acc'].append(val_accs[rname][r['arch']])\n",
    "        acc.append(accs[rname][r['arch']])\n",
    "\n",
    "    for i, (vote_metric_name, vote_sign) in enumerate(reversed(list(zip(vote_metric_names, vote_signs)))):\n",
    "        metrics[metric_names[-(i+1)]] = vote(vote_metric_name, vote_sign, metrics, mode='hard')\n",
    "\n",
    "    res = []\n",
    "    for k in hl:\n",
    "        if k=='Dataset':\n",
    "            continue\n",
    "        v = metrics[k]\n",
    "        cr = stats.kendalltau(acc, v, nan_policy='omit')[0]\n",
    "        res.append(round(cr,3))\n",
    "\n",
    "    t.add_row([rname]+res)\n",
    "\n",
    "print(t)"
   ]
  },
  {
   "cell_type": "markdown",
   "metadata": {},
   "source": [
    "## Spearman ρ of zero-cost proxies on NAS-Bench-201"
   ]
  },
  {
   "cell_type": "code",
   "execution_count": null,
   "metadata": {},
   "outputs": [],
   "source": [
    "t=None\n",
    "hl=['Dataset']\n",
    "hl.extend(metric_names)\n",
    "t = PrettyTable(hl)\n",
    "\n",
    "for fname, rname, _ in p_list:\n",
    "    runs=[]\n",
    "    f = open(fname,'rb')\n",
    "    while(1):\n",
    "        try:\n",
    "            runs.append(pickle.load(f))\n",
    "        except EOFError:\n",
    "            break\n",
    "    f.close()\n",
    "    print(fname, len(runs))\n",
    "\n",
    "    metrics={}\n",
    "    for k in metric_names:\n",
    "        metrics[k] = []\n",
    "    acc = []\n",
    "\n",
    "    for r in runs:\n",
    "        for k,v in r['logmeasures'].items():\n",
    "            if k in metrics:\n",
    "                metrics[k].append(v)\n",
    "        metrics['val_acc'].append(val_accs[rname][r['arch']])\n",
    "        acc.append(accs[rname][r['arch']])\n",
    "\n",
    "    for i, (vote_metric_name, vote_sign) in enumerate(reversed(list(zip(vote_metric_names, vote_signs)))):\n",
    "        metrics[metric_names[-(i+1)]] = vote(vote_metric_name, vote_sign, metrics, mode='hard')\n",
    "\n",
    "    res = []\n",
    "    for k in hl:\n",
    "        if k=='Dataset':\n",
    "            continue\n",
    "        v = metrics[k]\n",
    "        cr = stats.spearmanr(acc, v, nan_policy='omit').correlation\n",
    "        res.append(round(cr,3))\n",
    "\n",
    "    t.add_row([rname]+res)\n",
    "\n",
    "print(t)"
   ]
  },
  {
   "cell_type": "markdown",
   "metadata": {},
   "source": [
    "## Origin paper result"
   ]
  },
  {
   "cell_type": "raw",
   "metadata": {},
   "source": [
    "+----------------+-----------+-------+-------+--------+---------+-----------+\n",
    "|    Dataset     | grad_norm |  snip | grasp | fisher | synflow | jacob_cov |\n",
    "+----------------+-----------+-------+-------+--------+---------+-----------+\n",
    "|    CIFAR10     |   0.594   | 0.596 | 0.514 |  0.36  |  0.737  |   0.731   |\n",
    "|    CIFAR100    |   0.637   | 0.637 | 0.547 | 0.385  |  0.763  |   0.704   |\n",
    "| ImageNet16-120 |   0.578   | 0.578 | 0.549 | 0.327  |  0.751  |   0.701   |\n",
    "+----------------+-----------+-------+-------+--------+---------+-----------+"
   ]
  },
  {
   "cell_type": "code",
   "execution_count": null,
   "metadata": {},
   "outputs": [],
   "source": []
  }
 ],
 "metadata": {
  "kernelspec": {
   "display_name": "Python 3",
   "language": "python",
   "name": "python3"
  },
  "language_info": {
   "codemirror_mode": {
    "name": "ipython",
    "version": 3
   },
   "file_extension": ".py",
   "mimetype": "text/x-python",
   "name": "python",
   "nbconvert_exporter": "python",
   "pygments_lexer": "ipython3",
   "version": "3.6.4"
  }
 },
 "nbformat": 4,
 "nbformat_minor": 4
}
